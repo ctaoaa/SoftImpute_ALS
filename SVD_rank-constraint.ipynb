{
 "cells": [
  {
   "cell_type": "code",
   "execution_count": 1,
   "id": "ca9a1e4c",
   "metadata": {},
   "outputs": [],
   "source": [
    "from Methods import *\n",
    "import random"
   ]
  },
  {
   "cell_type": "markdown",
   "id": "2796079c",
   "metadata": {},
   "source": [
    "Case 1: true rank is 50, $\\lambda = 50$, estimated rank is 25. "
   ]
  },
  {
   "cell_type": "code",
   "execution_count": 42,
   "id": "530a6ab9",
   "metadata": {},
   "outputs": [
    {
     "name": "stdout",
     "output_type": "stream",
     "text": [
      "max_rank: 10\n",
      "iteration: 685\n",
      "relative objective and variable change: -1.1189282059296282e-16 -5.474621778152652e-16\n",
      "max_rank: 15\n",
      "iteration: 1118\n",
      "relative objective and variable change: 0.0 1.4645769873352663e-15\n",
      "max_rank: 18\n",
      "iteration: 816\n",
      "relative objective and variable change: -1.1356034695746158e-16 -3.029573033181768e-16\n",
      "max_rank: 25\n",
      "iteration: 2770\n",
      "relative objective and variable change: 0.0 -6.24036293375294e-16\n",
      "max_rank: 50\n",
      "iteration: 2899\n",
      "relative objective and variable change: 0.0 -6.240362933739442e-16\n",
      "max_rank: 100\n",
      "iteration: 2958\n",
      "relative objective and variable change: 0.0 -3.1201814668220578e-16\n",
      "Final rank: [10, 15, 18, 25, 25, 25]\n",
      "Converged objective: [130052.2692273793, 128444.18616653027, 128142.57457154333, 128048.97476278042, 128048.97476277992, 128048.97476277663]\n"
     ]
    }
   ],
   "source": [
    "X = generate_X(m=200, n=100, r=50, prop=0.7, random_state=5)\n",
    "max_rank = [10, 15, 18, 25, 50, 100]\n",
    "final_rank = []\n",
    "final_obj = []\n",
    "for epoch_ in range(len(max_rank)):\n",
    "    print(\"max_rank:\", max_rank[epoch_])\n",
    "    SoftImputer_SVD = SoftImpute_SVD_dense(\n",
    "        X, Lambda=50, r=max_rank[epoch_], sc='objective', random_state=1)\n",
    "    SoftImputer_SVD.matrix_completion(\n",
    "        rvar_eps=1e-20, robj_eps=1e-20, max_iter=3500)\n",
    "    final_rank.append(\n",
    "        np.where(SoftImputer_SVD.Dsq.diagonal() >= 1e-11)[0].shape[0])\n",
    "    final_obj.append(SoftImputer_SVD.obj_list[-1])\n",
    "print(\"Final rank:\", final_rank)\n",
    "print(\"Converged objective:\", final_obj)"
   ]
  },
  {
   "cell_type": "markdown",
   "id": "c1799707",
   "metadata": {},
   "source": [
    "Case 2: true rank is 50,  𝜆=65 , estimated rank is 22."
   ]
  },
  {
   "cell_type": "code",
   "execution_count": 44,
   "id": "b5951fe0",
   "metadata": {},
   "outputs": [
    {
     "name": "stdout",
     "output_type": "stream",
     "text": [
      "max_rank: 10\n",
      "iteration: 1898\n",
      "relative objective and variable change: 0.0 1.158585585319507e-15\n",
      "max_rank: 15\n",
      "iteration: 562\n",
      "relative objective and variable change: 0.0 1.2440180120819424e-15\n",
      "max_rank: 18\n",
      "iteration: 833\n",
      "relative objective and variable change: -1.3981905533581552e-16 0.0\n",
      "max_rank: 22\n",
      "iteration: 778\n",
      "relative objective and variable change: 0.0 -8.606969130930348e-16\n",
      "max_rank: 50\n",
      "iteration: 777\n",
      "relative objective and variable change: -1.3982522077025697e-16 8.606969141426683e-16\n",
      "max_rank: 150\n",
      "iteration: 780\n",
      "relative objective and variable change: 0.0 -1.7213938195671826e-15\n",
      "Final rank: [10, 15, 18, 21, 22, 22]\n",
      "Converged objective: [208811.3780520854, 208220.28921166953, 208153.53377143425, 208144.35547756718, 208144.35547756738, 208144.35547756712]\n"
     ]
    }
   ],
   "source": [
    "X = generate_X(m=300, n=150, r=50, prop=0.8, random_state=1)\n",
    "max_rank = [10, 15, 18, 22, 50,150]\n",
    "final_rank = []\n",
    "final_obj = []\n",
    "for epoch_ in range(len(max_rank)):\n",
    "    print(\"max_rank:\", max_rank[epoch_])\n",
    "    SoftImputer_SVD = SoftImpute_SVD_dense(\n",
    "        X, Lambda=65, r=max_rank[epoch_], sc='objective', random_state=1)\n",
    "    SoftImputer_SVD.matrix_completion(\n",
    "        rvar_eps=1e-20, robj_eps=1e-20, max_iter=3500)\n",
    "    final_rank.append(\n",
    "        np.where(SoftImputer_SVD.Dsq.diagonal() >= 1e-11)[0].shape[0])\n",
    "    final_obj.append(SoftImputer_SVD.obj_list[-1])\n",
    "print(\"Final rank:\", final_rank)\n",
    "print(\"Converged objective:\", final_obj)"
   ]
  },
  {
   "cell_type": "markdown",
   "id": "7a7ba959",
   "metadata": {},
   "source": [
    "Case 3: true rank is 30,  𝜆=77 , estimated rank is 30."
   ]
  },
  {
   "cell_type": "code",
   "execution_count": 47,
   "id": "ecaee670",
   "metadata": {},
   "outputs": [
    {
     "name": "stdout",
     "output_type": "stream",
     "text": [
      "max_rank: 20\n",
      "iteration: 2725\n",
      "relative objective and variable change: 0.0 1.1701461717794815e-15\n",
      "max_rank: 25\n",
      "iteration: 782\n",
      "relative objective and variable change: 0.0 -8.135096290930713e-16\n",
      "max_rank: 30\n",
      "iteration: 3500\n",
      "relative objective and variable change: 1.4140023205008395e-14 -1.6408780335731945e-15\n",
      "max_rank: 35\n",
      "iteration: 3500\n",
      "relative objective and variable change: 1.6592884373207005e-14 -1.6408780366295868e-15\n",
      "max_rank: 50\n",
      "iteration: 3500\n",
      "relative objective and variable change: 1.7314314128563947e-14 -4.102195091522215e-16\n",
      "max_rank: 200\n",
      "iteration: 3500\n",
      "relative objective and variable change: 1.659288437320712e-14 2.4613170549112063e-15\n",
      "Final rank: [20, 25, 30, 30, 30, 30]\n",
      "Converged objective: [403645.7626579564, 403429.14084179304, 403418.77002714144, 403418.770027557, 403418.770027554, 403418.7700275542]\n"
     ]
    }
   ],
   "source": [
    "X = generate_X(m=200, n=400, r=30, prop=0.8, random_state=1)\n",
    "X += np.random.normal(scale=5,size=(200,400))\n",
    "max_rank = [20, 25, 30, 35, 50,200]\n",
    "final_rank = []\n",
    "final_obj = []\n",
    "for epoch_ in range(len(max_rank)):\n",
    "    print(\"max_rank:\", max_rank[epoch_])\n",
    "    SoftImputer_SVD = SoftImpute_SVD_dense(\n",
    "        X, Lambda=76, r=max_rank[epoch_], sc='objective', random_state=1)\n",
    "    SoftImputer_SVD.matrix_completion(\n",
    "        rvar_eps=1e-20, robj_eps=1e-20, max_iter=3500)\n",
    "    final_rank.append(\n",
    "        np.where(SoftImputer_SVD.Dsq.diagonal() >= 1e-11)[0].shape[0])\n",
    "    final_obj.append(SoftImputer_SVD.obj_list[-1])\n",
    "print(\"Final rank:\", final_rank)\n",
    "print(\"Converged objective:\", final_obj)"
   ]
  }
 ],
 "metadata": {
  "kernelspec": {
   "display_name": "Python 3 (ipykernel)",
   "language": "python",
   "name": "python3"
  },
  "language_info": {
   "codemirror_mode": {
    "name": "ipython",
    "version": 3
   },
   "file_extension": ".py",
   "mimetype": "text/x-python",
   "name": "python",
   "nbconvert_exporter": "python",
   "pygments_lexer": "ipython3",
   "version": "3.8.11"
  }
 },
 "nbformat": 4,
 "nbformat_minor": 5
}
