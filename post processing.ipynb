{
 "cells": [
  {
   "cell_type": "code",
   "execution_count": 19,
   "id": "249140f9",
   "metadata": {},
   "outputs": [
    {
     "name": "stdout",
     "output_type": "stream",
     "text": [
      "Lambda: 25\n",
      "Rank: 100\n",
      "iteration: 41\n",
      "relative objective and variable change: 1.330483731400579e-10 7.40040897058489e-10\n"
     ]
    }
   ],
   "source": [
    "from Methods import *\n",
    "def generate_X_AB(m, n, r, prop, random_state=1):\n",
    "    np.random.seed(random_state)\n",
    "    random.seed(random_state)\n",
    "    true_A = np.random.normal(size=(m, r))\n",
    "    true_B = np.random.normal(size=(n, r))\n",
    "    X = true_A.dot(true_B.T).flatten()\n",
    "    nan_pos = random.sample(range(m*n), int(m*n*prop))\n",
    "    X[nan_pos] = np.NAN\n",
    "    return X.reshape(m, n), true_A, true_B\n",
    "\n",
    "X, true_A, true_B = generate_X_AB(m=100, n=100, r=15, prop=0.6, random_state=1)\n",
    "X += np.random.normal(scale=1, size=(100, 100))\n",
    "Lambda = 25\n",
    "Rank = 100\n",
    "print(\"Lambda:\", Lambda)\n",
    "print(\"Rank:\",Rank)\n",
    "\n",
    "def calculate_test_error(X, true_A, true_B, X_est):\n",
    "    Omega_c = np.isnan(X)\n",
    "    return np.linalg.norm((true_A.dot(true_B.T) - X_est)[Omega_c])**2 / \\\n",
    "        np.linalg.norm((true_A.dot(true_B.T))[Omega_c])**2\n",
    "\n",
    "\n",
    "def calculate_train_error(X, X_est):\n",
    "    Omega_c = np.isnan(X)\n",
    "    Omega = np.array([not Omega_c[i, j] for i in range(\n",
    "        Omega_c.shape[0]) for j in range(Omega_c.shape[1])]).reshape(Omega_c.shape)\n",
    "    return np.linalg.norm((X - X_est)[Omega])**2 / \\\n",
    "        np.linalg.norm(X[Omega])**2\n",
    "\n",
    "SoftImputer_SVD = SoftImpute_SVD_dense(\n",
    "            X, Lambda=Lambda, r=Rank, sc='variable',warm_start=None)\n",
    "SoftImputer_SVD.matrix_completion(\n",
    "            rvar_eps=1e-9, robj_eps=1e-9, max_iter=3000)"
   ]
  },
  {
   "cell_type": "code",
   "execution_count": 20,
   "id": "e3a01e86",
   "metadata": {},
   "outputs": [
    {
     "name": "stdout",
     "output_type": "stream",
     "text": [
      "15\n",
      "0.5785338609135566\n",
      "[119.23698954 110.55569124  96.32036526  94.73782801  89.56002804\n",
      "  85.03900628  81.25574769  78.53064091  61.94715067  58.31367343\n",
      "  53.10496264  50.73858046  43.16475561  40.67336809  32.73840037] [7.69927402e+01 6.80792506e+01 5.81805502e+01 5.40720218e+01\n",
      " 4.91889879e+01 4.54580860e+01 3.82338787e+01 3.72600766e+01\n",
      " 2.38780437e+01 2.08190236e+01 1.45230095e+01 1.24279643e+01\n",
      " 6.76973662e+00 1.66374080e+00 2.74485363e-09 7.69312016e-15\n",
      " 7.69312016e-15 7.69312016e-15 7.69312016e-15 7.69312016e-15\n",
      " 7.69312016e-15 7.69312016e-15 7.69312016e-15 7.69312016e-15\n",
      " 7.69312016e-15 7.69312016e-15 7.69312016e-15 7.69312016e-15\n",
      " 7.69312016e-15 7.69312016e-15 7.69312016e-15 7.69312016e-15\n",
      " 7.69312016e-15 7.69312016e-15 7.69312016e-15 7.69312016e-15\n",
      " 7.69312016e-15 7.69312016e-15 7.69312016e-15 7.69312016e-15\n",
      " 7.69312016e-15 7.69312016e-15 7.69312016e-15 7.69312016e-15\n",
      " 7.69312016e-15 7.69312016e-15 7.69312016e-15 7.69312016e-15\n",
      " 7.69312016e-15 7.69312016e-15 7.69312016e-15 7.69312016e-15\n",
      " 7.69312016e-15 7.69312016e-15 7.69312016e-15 7.69312016e-15\n",
      " 7.69312016e-15 7.69312016e-15 7.69312016e-15 7.69312016e-15\n",
      " 7.69312016e-15 7.69312016e-15 7.69312016e-15 7.69312016e-15\n",
      " 7.69312016e-15 7.69312016e-15 7.69312016e-15 7.69312016e-15\n",
      " 7.69312016e-15 7.69312016e-15 7.69312016e-15 7.69312016e-15\n",
      " 7.69312016e-15 7.69312016e-15 7.69312016e-15 7.69312016e-15\n",
      " 7.69312016e-15 7.69312016e-15 7.69312016e-15 7.69312016e-15\n",
      " 7.69312016e-15 7.69312016e-15 7.69312016e-15 7.69312016e-15\n",
      " 7.69312016e-15 7.69312016e-15 7.69312016e-15 7.69312016e-15\n",
      " 7.69312016e-15 7.69312016e-15 7.69312016e-15 7.69312016e-15\n",
      " 7.69312016e-15 7.69312016e-15 7.69312016e-15 7.69312016e-15\n",
      " 7.69312016e-15 7.69312016e-15 7.69312016e-15 7.69312016e-15]\n",
      "0.38983629217822235\n"
     ]
    }
   ],
   "source": [
    "def post_processing(X,U,V,r):\n",
    "    Omega_c = np.isnan(X)\n",
    "    Omega = np.array([not Omega_c[i, j] for i in range(\n",
    "        Omega_c.shape[0]) for j in range(Omega_c.shape[1])]).reshape(Omega_c.shape)\n",
    "    x0 = X[Omega].reshape(-1,1)\n",
    "    A = np.zeros((x0.shape[0],r))\n",
    "    for i in range(r):\n",
    "        uvT=U[:,i].reshape(-1,1).dot(V[:,i].reshape(1,-1))\n",
    "        A[:,i] = uvT[Omega]\n",
    "\n",
    "    a = np.linalg.pinv(A).dot(x0)\n",
    "    nega_cond = np.where(a<0)[0]\n",
    "    a[nega_cond] *=-1\n",
    "    U[:,nega_cond] *=-1\n",
    "    return a,U\n",
    "    \n",
    "rank = np.where(SoftImputer_SVD.Dsq.diagonal()>=1e-10)[0].shape[0]\n",
    "print(rank)\n",
    "a,U = post_processing(X,SoftImputer_SVD.U,SoftImputer_SVD.V,rank)\n",
    "print(calculate_test_error(X, true_A, true_B,SoftImputer_SVD.M))\n",
    "U_r = U[:,:rank]\n",
    "V_r = SoftImputer_SVD.V[:,:rank]\n",
    "D_r = np.diag(a[:rank,0])\n",
    "X_est=U_r.dot(D_r.dot(V_r.T))\n",
    "print(a[:,0],SoftImputer_SVD.Dsq.diagonal())\n",
    "print(calculate_test_error(X, true_A, true_B,X_est))"
   ]
  },
  {
   "cell_type": "code",
   "execution_count": null,
   "id": "fed68fc0",
   "metadata": {},
   "outputs": [],
   "source": []
  }
 ],
 "metadata": {
  "kernelspec": {
   "display_name": "Python 3 (ipykernel)",
   "language": "python",
   "name": "python3"
  },
  "language_info": {
   "codemirror_mode": {
    "name": "ipython",
    "version": 3
   },
   "file_extension": ".py",
   "mimetype": "text/x-python",
   "name": "python",
   "nbconvert_exporter": "python",
   "pygments_lexer": "ipython3",
   "version": "3.8.11"
  }
 },
 "nbformat": 4,
 "nbformat_minor": 5
}
